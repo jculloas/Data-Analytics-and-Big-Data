{
 "cells": [
  {
   "cell_type": "markdown",
   "metadata": {},
   "source": [
    "##### Steps to import a CSV File\n",
    " Step 1: Capture the File Path\n",
    " Step 2: Apply the Python code\n",
    "           a: import pandas as pd\n",
    "           b: df = pd.read_csv (r'C:\\Users\\Ron\\Desktop\\Clients.csv')   \n",
    "              *read the csv file (put 'r' before the path string to address any special characters in the path, such as '\\'). \n",
    "              *Don't forget to put the file name at the end of the path + \".csv\"\n",
    "           c: print (df)\n",
    " Step 3: Run the Code"
   ]
  },
  {
   "cell_type": "code",
   "execution_count": 1,
   "metadata": {},
   "outputs": [],
   "source": [
    "import pandas as pd"
   ]
  },
  {
   "cell_type": "code",
   "execution_count": 2,
   "metadata": {},
   "outputs": [],
   "source": [
    "df = pd.read_csv (r'C:\\Users\\kllr912\\Documents\\Data Analytics\\Module 2\\Brand Preferences\\CompleteResponses.csv')"
   ]
  },
  {
   "cell_type": "code",
   "execution_count": 3,
   "metadata": {},
   "outputs": [
    {
     "name": "stdout",
     "output_type": "stream",
     "text": [
      "            salary  age  elevel  car  zipcode        credit  brand\n",
      "0     119806.54480   45       0   14        4  442037.71130      0\n",
      "1     106880.47840   63       1   11        6   45007.17883      1\n",
      "2      78020.75094   23       0   15        2   48795.32279      0\n",
      "3      63689.93635   51       3    6        5   40888.87736      1\n",
      "4      50873.61880   20       3   14        4  352951.49770      0\n",
      "...            ...  ...     ...  ...      ...           ...    ...\n",
      "9893   87580.91422   75       1   18        8  282511.90950      1\n",
      "9894  129181.38200   75       2    7        4  384871.36390      1\n",
      "9895   97828.08884   66       2   15        0  399446.69620      1\n",
      "9896   20000.00000   24       1   14        1  223204.64950      1\n",
      "9897   96430.16419   34       1    2        7  224029.80700      0\n",
      "\n",
      "[9898 rows x 7 columns]\n"
     ]
    }
   ],
   "source": [
    "print(df)"
   ]
  },
  {
   "cell_type": "code",
   "execution_count": 8,
   "metadata": {},
   "outputs": [
    {
     "name": "stdout",
     "output_type": "stream",
     "text": [
      "    ProductType  ProductNum    Price  x5StarReviews  x4StarReviews  \\\n",
      "0            PC         101   949.00              3              3   \n",
      "1            PC         102  2249.99              2              1   \n",
      "2            PC         103   399.00              3              0   \n",
      "3        Laptop         104   409.99             49             19   \n",
      "4        Laptop         105  1079.99             58             31   \n",
      "..          ...         ...      ...            ...            ...   \n",
      "75   Smartphone         191   200.00             62             25   \n",
      "76   Smartphone         192    99.00             18             17   \n",
      "77      Netbook         182   349.99             22             10   \n",
      "78   Smartphone         197   499.00            368             28   \n",
      "79  GameConsole         200   299.99            421             87   \n",
      "\n",
      "    x3StarReviews  x2StarReviews  x1StarReviews  PositiveServiceReview  \\\n",
      "0               2              0              0                      2   \n",
      "1               0              0              0                      1   \n",
      "2               0              0              0                      1   \n",
      "3               8              3              9                      7   \n",
      "4              11              7             36                      7   \n",
      "..            ...            ...            ...                    ...   \n",
      "75             10             11             12                      9   \n",
      "76              6              2             12                      5   \n",
      "77              6              2             10                      3   \n",
      "78             14             10             23                     22   \n",
      "79             20             14             39                     29   \n",
      "\n",
      "    NegativeServiceReview  Recommendproduct  BestSellersRank  ShippingWeight  \\\n",
      "0                       0               0.9           1967.0           25.80   \n",
      "1                       0               0.9           4806.0           50.00   \n",
      "2                       0               0.9          12076.0           17.40   \n",
      "3                       8               0.8            109.0            5.70   \n",
      "4                      20               0.7            268.0            7.00   \n",
      "..                    ...               ...              ...             ...   \n",
      "75                      3               0.8            720.0            0.90   \n",
      "76                      4               0.7           5742.0            0.70   \n",
      "77                      3               0.3           2723.0            5.00   \n",
      "78                      3               0.9          14086.0            0.90   \n",
      "79                     14               0.9            352.0           10.94   \n",
      "\n",
      "    ProductDepth  ProductWidth  ProductHeight  ProfitMargin  Volume  \n",
      "0          23.94          6.62          16.89          0.15      12  \n",
      "1          35.00         31.75          19.00          0.25       8  \n",
      "2          10.50          8.30          10.20          0.08      12  \n",
      "3          15.00          9.90           1.30          0.08     196  \n",
      "4          12.90          0.30           8.90          0.09     232  \n",
      "..           ...           ...            ...           ...     ...  \n",
      "75          2.80          5.40           0.30          0.14     248  \n",
      "76          2.80          5.30           0.40          0.17      72  \n",
      "77          7.57         10.47           1.43          0.12      88  \n",
      "78          2.70          5.00           0.40          0.10    1472  \n",
      "79         12.00         11.50           7.25          0.12    1684  \n",
      "\n",
      "[80 rows x 18 columns]\n"
     ]
    }
   ],
   "source": [
    "# Create a GUI to Import a CSV File into Python\n",
    "import tkinter as tk\n",
    "from tkinter import filedialog\n",
    "import pandas as pd\n",
    "\n",
    "root= tk.Tk()\n",
    "\n",
    "canvas1 = tk.Canvas(root, width = 300, height = 300, bg = 'lightsteelblue2', relief = 'raised')\n",
    "canvas1.pack()\n",
    "\n",
    "def getCSV ():\n",
    "    global df\n",
    "    \n",
    "    import_file_path = filedialog.askopenfilename()\n",
    "    df = pd.read_csv (import_file_path)\n",
    "    print (df)\n",
    "    \n",
    "browseButton_CSV = tk.Button(text=\"      Import CSV File     \", command=getCSV, bg='green', fg='white', font=('helvetica', 12, 'bold'))\n",
    "canvas1.create_window(150, 150, window=browseButton_CSV)\n",
    "\n",
    "root.mainloop()"
   ]
  },
  {
   "cell_type": "markdown",
   "metadata": {},
   "source": [
    "##### Was it straightforward to install Python and all of the libraries?\n",
    "\n",
    "I would say that installing Python was easy because I installed Anaconda.  Because I did this, all the libraries were already set up and no additional steps were needed to have a complete set up.  Nevertheless, if you just install Python alone, things might not be that easy.  The reason is that you do need to perform various additional steps to confirm Python was installed appropriately, plus other steps to add individually the additional libraries needed. "
   ]
  },
  {
   "cell_type": "markdown",
   "metadata": {},
   "source": [
    "##### Was the tutorial useful? Would you recommend it to others?\n",
    "\n",
    "In general the tutorial was useful.  Learning a new code language is not easy, despite other experiences you have had.  The tutorial would not make you an expert or experienced user, nevertheless it does provide the foundations to give you a very good understanding of all the things.  It also helps you compare to other programs and identify differences and similarities.  For a person that is getting his feet wet on Pyhton, I would recommend it. "
   ]
  },
  {
   "cell_type": "markdown",
   "metadata": {},
   "source": [
    "##### What are the main lessons you've learned from this experience?\n",
    "\n",
    "Lesson 1 - Python is not identical to \"R\"\n",
    "\n",
    "Alltough various references refer to the language in Python as easy to learn, I believe it is not that straightforward.  It is also not identical to R.  In my humble opinion, it would take quite some time to learn and get used to it.  I do believe it seems more logical, and it is easier to read.  As a result, completing the tutorial and creating quick references and material you can use would be very important to quickly learn. \n",
    "\n",
    "Lesson 2 - Create a \"Cheat Sheet\"\n",
    "\n",
    "As expressed above, this is not something that you would learn fast and easy.  It would take time, but on the other hand only practicing would make you and expert.  Given that you need to work while learning, an action I would be implementing is to create easy access references or Cheat Sheets for specific areas.  That way I can check back, refresh topics, and move faster in my execution.  Aa I learn more things, I could continue updating them.  \n",
    "\n",
    "Lesson 3 - Pyhton is better for vsualizations\n",
    "I would consider R a tool that is not great on visualizations, making it difficult to really highlight data and blend it for a good analysis.  I have not had a lot of visibility of all the options Python provides, but as I started learning, the visualizations and creations you can do in the tool are quite amazing.  Histograms, distributions, and other visualizations look sharper and easier than the ones in R.  As a result, I would try to devote a single Cheat Sheet to this area and identify all the potential opportunities.  "
   ]
  },
  {
   "cell_type": "code",
   "execution_count": null,
   "metadata": {},
   "outputs": [],
   "source": []
  }
 ],
 "metadata": {
  "celltoolbar": "Raw Cell Format",
  "kernelspec": {
   "display_name": "Python 3",
   "language": "python",
   "name": "python3"
  },
  "language_info": {
   "codemirror_mode": {
    "name": "ipython",
    "version": 3
   },
   "file_extension": ".py",
   "mimetype": "text/x-python",
   "name": "python",
   "nbconvert_exporter": "python",
   "pygments_lexer": "ipython3",
   "version": "3.7.4"
  }
 },
 "nbformat": 4,
 "nbformat_minor": 2
}
